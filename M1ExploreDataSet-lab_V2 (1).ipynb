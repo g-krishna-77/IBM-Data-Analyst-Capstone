{
 "cells": [
  {
   "cell_type": "markdown",
   "id": "f2e2a963-5b99-445a-8b4e-7dc6678a3bb9",
   "metadata": {},
   "outputs": [],
   "source": [
    "<p style=\"text-align:center\">\n",
    "    <a href=\"https://skills.network\" target=\"_blank\">\n",
    "    <img src=\"https://cf-courses-data.s3.us.cloud-object-storage.appdomain.cloud/assets/logos/SN_web_lightmode.png\" width=\"200\" alt=\"Skills Network Logo\"  />\n",
    "    </a>\n",
    "</p>\n"
   ]
  },
  {
   "cell_type": "markdown",
   "id": "39dbb087-42d1-49d4-bd8c-20229aafbd27",
   "metadata": {},
   "outputs": [],
   "source": [
    "# **Lab: Exploring the Dataset**\n"
   ]
  },
  {
   "cell_type": "markdown",
   "id": "357b9df9-3cb0-46ab-93dd-86ffd2ce3254",
   "metadata": {},
   "outputs": [],
   "source": [
    "Estimated time needed: **30** minutes\n"
   ]
  },
  {
   "cell_type": "markdown",
   "id": "81c1362a-c4de-4924-b645-4538c79dbb31",
   "metadata": {},
   "outputs": [],
   "source": [
    "## Introduction\n"
   ]
  },
  {
   "cell_type": "markdown",
   "id": "b66fa4db-ab29-408f-9b50-ec71598bb399",
   "metadata": {},
   "outputs": [],
   "source": [
    "Data exploration is the initial phase of data analysis where we aim to understand the data's characteristics, identify patterns, and uncover potential insights. It is a crucial step that helps us make informed decisions about subsequent analysis.\n"
   ]
  },
  {
   "cell_type": "markdown",
   "id": "7df142a0-a4e3-4e97-b44f-e2f1d7980738",
   "metadata": {},
   "outputs": [],
   "source": [
    "## Objectives\n"
   ]
  },
  {
   "cell_type": "markdown",
   "id": "c60726fe-0a6d-42a2-a9f2-e3ea60d0c085",
   "metadata": {},
   "outputs": [],
   "source": [
    "After completing this lab, you will be able to:\n"
   ]
  },
  {
   "cell_type": "markdown",
   "id": "d43bb21d-81d9-428b-9a58-0007f662dc6b",
   "metadata": {},
   "outputs": [],
   "source": [
    "-   Summarize the key characteristics of a dataset.\n",
    "-   Identify different data types commonly used in data analysis.\n"
   ]
  },
  {
   "cell_type": "markdown",
   "id": "a2a8f48b-a892-426b-844b-9005192c0418",
   "metadata": {},
   "outputs": [],
   "source": [
    "### Install the required library\n"
   ]
  },
  {
   "cell_type": "code",
   "id": "17a69eab-cc88-48ef-a5c3-d6722546e0d4",
   "metadata": {},
   "outputs": [],
   "source": [
    "!pip install pandas"
   ]
  },
  {
   "cell_type": "code",
   "id": "826100f9-c904-417b-acca-0ed6c4fe54ff",
   "metadata": {},
   "outputs": [],
   "source": [
    "import pandas as pd"
   ]
  },
  {
   "cell_type": "markdown",
   "id": "f7f32d44-dc8c-4cdf-b504-e236b5d0092f",
   "metadata": {},
   "outputs": [],
   "source": [
    "## Load the dataset\n"
   ]
  },
  {
   "cell_type": "markdown",
   "id": "9e8440d0-9710-485e-b5e7-21c59ba0fea3",
   "metadata": {},
   "outputs": [],
   "source": [
    "<h3>Read Data</h3>\n",
    "<p>\n",
    "We utilize the <code>pandas.read_csv()</code> function for reading CSV files. \n",
    "</p>\n"
   ]
  },
  {
   "cell_type": "markdown",
   "id": "cfd0ff82-bc8b-4adf-8e19-39e377b70108",
   "metadata": {},
   "outputs": [],
   "source": [
    "The functions below will download the dataset into your browser:\n"
   ]
  },
  {
   "cell_type": "code",
   "id": "211e91cc-9a03-403d-865a-b87dd4265c58",
   "metadata": {},
   "outputs": [],
   "source": [
    "# Load the dataset directly from the URL\nfile_path = \"https://cf-courses-data.s3.us.cloud-object-storage.appdomain.cloud/VYPrOu0Vs3I0hKLLjiPGrA/survey-data-with-duplicate.csv\"\n"
   ]
  },
  {
   "cell_type": "markdown",
   "id": "0e5d915a-c376-40c3-a9a7-0b11fd588374",
   "metadata": {},
   "outputs": [],
   "source": [
    "Utilize the Pandas method read_csv() to load the data into a dataframe.\n"
   ]
  },
  {
   "cell_type": "code",
   "id": "47a62c32-1d8d-4431-ade3-3e3fdaf72205",
   "metadata": {},
   "outputs": [],
   "source": [
    "df = pd.read_csv(file_path)"
   ]
  },
  {
   "cell_type": "markdown",
   "id": "6d98d964-2f37-4fb3-9fd4-af61914f7cd4",
   "metadata": {},
   "outputs": [],
   "source": [
    "# Hands on Lab\n"
   ]
  },
  {
   "cell_type": "markdown",
   "id": "cacbbda8-59c8-42d7-83b8-0b415f9fc2c3",
   "metadata": {},
   "outputs": [],
   "source": [
    "## Explore the dataset\n"
   ]
  },
  {
   "cell_type": "markdown",
   "id": "5af70d32-0d0b-4884-8ff8-88644078aed8",
   "metadata": {},
   "outputs": [],
   "source": [
    "It is a good idea to print the top 5 rows of the dataset to get a feel of how the dataset will look.\n"
   ]
  },
  {
   "cell_type": "markdown",
   "id": "888d2592-5709-475f-8e7a-03e625fa0d58",
   "metadata": {},
   "outputs": [],
   "source": [
    "Display the top 5 rows and columns from your dataset.\n"
   ]
  },
  {
   "cell_type": "code",
   "id": "f6ec988b-3acb-4e98-b0d5-1951b261a218",
   "metadata": {},
   "outputs": [],
   "source": [
    "df.head()"
   ]
  },
  {
   "cell_type": "markdown",
   "id": "1274c613-52b8-47a9-851d-f80d9484fcd9",
   "metadata": {},
   "outputs": [],
   "source": [
    "## Find out the number of rows and columns\n"
   ]
  },
  {
   "cell_type": "markdown",
   "id": "476c8f60-7735-456c-b0fb-e0f19f96fd63",
   "metadata": {},
   "outputs": [],
   "source": [
    "Start by exploring the numbers of rows and columns of data in the dataset.\n"
   ]
  },
  {
   "cell_type": "markdown",
   "id": "c2964873-46f7-4014-a23a-c5b138415243",
   "metadata": {},
   "outputs": [],
   "source": [
    "Print the number of rows in the dataset.\n"
   ]
  },
  {
   "cell_type": "code",
   "id": "47c0723a-0278-45d5-8dee-02fe9e9d55b6",
   "metadata": {},
   "outputs": [],
   "source": [
    "print(f'Number of rows: {len(df)}')"
   ]
  },
  {
   "cell_type": "markdown",
   "id": "c0d10550-3b9d-42a4-aa1f-36a2ed256311",
   "metadata": {},
   "outputs": [],
   "source": [
    "Print the number of columns in the dataset.\n"
   ]
  },
  {
   "cell_type": "code",
   "id": "8dfa6141-fb88-4f1c-b952-b296cfd7926a",
   "metadata": {},
   "outputs": [],
   "source": [
    "print(f'Number of columns: {len(df.columns)}')"
   ]
  },
  {
   "cell_type": "markdown",
   "id": "c90b30a3-5299-4484-bfe1-3a46e6b2c51f",
   "metadata": {},
   "outputs": [],
   "source": [
    "## Identify the data types of each column\n"
   ]
  },
  {
   "cell_type": "markdown",
   "id": "84c609d8-4b2a-4acf-b5a0-78187d50148e",
   "metadata": {},
   "outputs": [],
   "source": [
    "Explore the dataset and identify the data types of each column.\n"
   ]
  },
  {
   "cell_type": "markdown",
   "id": "8c45502f-a099-4045-8a58-cdb31d8a9d0b",
   "metadata": {},
   "outputs": [],
   "source": [
    "Print the datatype of all columns.\n"
   ]
  },
  {
   "cell_type": "code",
   "id": "bb58d71c-ed6d-46e5-9c1e-5915e4b27c4b",
   "metadata": {},
   "outputs": [],
   "source": [
    "print(df.dtypes)"
   ]
  },
  {
   "cell_type": "markdown",
   "id": "43e63436-b2d8-4c06-b9a2-947a218ced41",
   "metadata": {},
   "outputs": [],
   "source": [
    "Print the mean age of the survey participants.\n"
   ]
  },
  {
   "cell_type": "code",
   "id": "fe04e5f0-ca16-4e1f-a8ed-1928cc35b15a",
   "metadata": {},
   "outputs": [],
   "source": [
    "print(f'Age distribution:')\nprint(df['Age'].value_counts())"
   ]
  },
  {
   "cell_type": "markdown",
   "id": "957752a7-3f91-4ac1-8b09-6ad19967e64c",
   "metadata": {},
   "outputs": [],
   "source": [
    "The dataset is the result of a world wide survey. Print how many unique countries are there in the Country column.\n"
   ]
  },
  {
   "cell_type": "code",
   "id": "a8b14b97-3ef8-4bcd-9d21-54e49eb2b220",
   "metadata": {},
   "outputs": [],
   "source": [
    "print(f'Number of unique countries: {df[\"Country\"].nunique()}')"
   ]
  },
  {
   "cell_type": "markdown",
   "id": "336192ff-0712-4a01-ae57-9b5493e3223d",
   "metadata": {},
   "outputs": [],
   "source": [
    "Copyright ©  IBM Corporation. All rights reserved.\n"
   ]
  }
 ],
 "metadata": {
  "kernelspec": {
   "name": "python3",
   "display_name": "Python 3 (ipykernel)",
   "language": "python"
  },
  "language_info": {
   "name": "python",
   "version": "3.12.8",
   "mimetype": "text/x-python",
   "codemirror_mode": {
    "name": "ipython",
    "version": 3
   },
   "pygments_lexer": "ipython3",
   "nbconvert_exporter": "python",
   "file_extension": ".py"
  },
  "prev_pub_hash": "e3b5377a628de02106f68245815ded3ee298984900f5092e6effc169312da2a4"
 },
 "nbformat": 4,
 "nbformat_minor": 4
}