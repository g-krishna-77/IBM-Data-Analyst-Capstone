{
 "cells": [
  {
   "cell_type": "markdown",
   "metadata": {},
   "source": [
    "<p style=\"text-align:center\">\n",
    "    <a href=\"https://skills.network\" target=\"_blank\">\n",
    "    <img src=\"https://cf-courses-data.s3.us.cloud-object-storage.appdomain.cloud/assets/logos/SN_web_lightmode.png\" width=\"200\" alt=\"Skills Network Logo\">\n",
    "    </a>\n",
    "</p>\n"
   ]
  },
  {
   "cell_type": "markdown",
   "metadata": {},
   "source": [
    "# **Collecting Job Data Using APIs**\n"
   ]
  },
  {
   "cell_type": "markdown",
   "metadata": {},
   "source": [
    "Estimated time needed: **30** minutes\n"
   ]
  },
  {
   "cell_type": "markdown",
   "metadata": {},
   "source": [
    "## Objectives\n"
   ]
  },
  {
   "cell_type": "markdown",
   "metadata": {},
   "source": [
    "After completing this lab, you will be able to:\n"
   ]
  },
  {
   "cell_type": "markdown",
   "metadata": {},
   "source": [
    "* Collect job data using Jobs API\n",
    "* Store the collected data into an excel spreadsheet.\n"
   ]
  },
  {
   "cell_type": "markdown",
   "metadata": {},
   "source": [
    "> **Note**: Before starting with the lab, you need to create an IBM Cloud account (https://cloud.ibm.com/registration), if you do not have one already. We will be using a JOB API to gather data. For this lab you can use this baseURL:https://cf-courses-data.s3.us.cloud-object-storage.appdomain.cloud/IBM-DA0321EN-SkillsNetwork/labs/module%201/Accessing%20Data%20Using%20APIs/jobs.json\n"
   ]
  },
  {
   "cell_type": "markdown",
   "metadata": {},
   "source": [
    "## Setup\n"
   ]
  },
  {
   "cell_type": "code",
   "execution_count": 1,
   "metadata": {},
   "outputs": [
    {
     "ename": "ModuleNotFoundError",
     "evalue": "No module named 'openpyxl'",
     "output_type": "error",
     "traceback": [
      "\u001b[0;31m---------------------------------------------------------------------------\u001b[0m",
      "\u001b[0;31mModuleNotFoundError\u001b[0m                       Traceback (most recent call last)",
      "\u001b[0;32m/tmp/ipykernel_374/1072861934.py\u001b[0m in \u001b[0;36m<module>\u001b[0;34m\u001b[0m\n\u001b[1;32m      3\u001b[0m \u001b[0;32mimport\u001b[0m \u001b[0mjson\u001b[0m\u001b[0;34m\u001b[0m\u001b[0;34m\u001b[0m\u001b[0m\n\u001b[1;32m      4\u001b[0m \u001b[0;32mimport\u001b[0m \u001b[0mpandas\u001b[0m \u001b[0;32mas\u001b[0m \u001b[0mpd\u001b[0m\u001b[0;34m\u001b[0m\u001b[0;34m\u001b[0m\u001b[0m\n\u001b[0;32m----> 5\u001b[0;31m \u001b[0;32mfrom\u001b[0m \u001b[0mopenpyxl\u001b[0m \u001b[0;32mimport\u001b[0m \u001b[0mWorkbook\u001b[0m\u001b[0;34m\u001b[0m\u001b[0;34m\u001b[0m\u001b[0m\n\u001b[0m\u001b[1;32m      6\u001b[0m \u001b[0;32mfrom\u001b[0m \u001b[0mopenpyxl\u001b[0m\u001b[0;34m.\u001b[0m\u001b[0mutils\u001b[0m\u001b[0;34m.\u001b[0m\u001b[0mdataframe\u001b[0m \u001b[0;32mimport\u001b[0m \u001b[0mdataframe_to_rows\u001b[0m\u001b[0;34m\u001b[0m\u001b[0;34m\u001b[0m\u001b[0m\n\u001b[1;32m      7\u001b[0m \u001b[0;32mimport\u001b[0m \u001b[0mmatplotlib\u001b[0m\u001b[0;34m.\u001b[0m\u001b[0mpyplot\u001b[0m \u001b[0;32mas\u001b[0m \u001b[0mplt\u001b[0m\u001b[0;34m\u001b[0m\u001b[0;34m\u001b[0m\u001b[0m\n",
      "\u001b[0;31mModuleNotFoundError\u001b[0m: No module named 'openpyxl'"
     ]
    }
   ],
   "source": [
    "# Import required libraries\n",
    "import requests\n",
    "import json\n",
    "import pandas as pd\n",
    "from openpyxl import Workbook\n",
    "from openpyxl.utils.dataframe import dataframe_to_rows\n",
    "import matplotlib.pyplot as plt\n",
    "import seaborn as sns\n",
    "\n",
    "# Set display options for better output\n",
    "pd.set_option('display.max_columns', None)\n",
    "pd.set_option('display.max_rows', 100)"
   ]
  },
  {
   "cell_type": "markdown",
   "metadata": {},
   "source": [
    "## API Setup and Data Collection\n"
   ]
  },
  {
   "cell_type": "code",
   "execution_count": null,
   "metadata": {},
   "outputs": [],
   "source": [
    "# Define the base URL for the Jobs API\n",
    "baseurl = \"https://cf-courses-data.s3.us.cloud-object-storage.appdomain.cloud/IBM-DA0321EN-SkillsNetwork/labs/module%201/Accessing%20Data%20Using%20APIs/jobs.json\"\n",
    "\n",
    "# Define locations and technologies to analyze\n",
    "locations = [\"Los Angeles\", \"New York\", \"San Francisco\", \"Washington DC\", \"Seattle\", \"Austin\", \"Detroit\"]\n",
    "technologies = [\"C\", \"C++\", \"C#\", \"Java\", \"JavaScript\", \"Python\", \"Scala\", \"Oracle\", \"SQL Server\", \"MySQL Server\", \"PostgreSQL\", \"MongoDB\"]\n",
    "\n",
    "print(\"API URL:\", baseurl)\n",
    "print(\"Locations to analyze:\", locations)\n",
    "print(\"Technologies to analyze:\", technologies)"
   ]
  },
  {
   "cell_type": "markdown",
   "metadata": {},
   "source": [
    "## Function to Get Job Data\n"
   ]
  },
  {
   "cell_type": "code",
   "execution_count": null,
   "metadata": {},
   "outputs": [],
   "source": [
    "def get_number_of_jobs_TL(technology, location):\n",
    "    \"\"\"\n",
    "    Get the number of job postings for a specific technology in a specific location\n",
    "    \n",
    "    Args:\n",
    "        technology (str): The technology/skill to search for\n",
    "        location (str): The location to search in\n",
    "    \n",
    "    Returns:\n",
    "        int: Number of job postings found\n",
    "    \"\"\"\n",
    "    try:\n",
    "        # Make API request\n",
    "        response = requests.get(baseurl)\n",
    "        \n",
    "        # Check if request was successful\n",
    "        if response.status_code == 200:\n",
    "            data = response.json()\n",
    "            \n",
    "            # Filter jobs by technology and location\n",
    "            count = 0\n",
    "            for job in data:\n",
    "                # Check if technology is mentioned in key skills or job title\n",
    "                tech_match = (\n",
    "                    technology.lower() in str(job.get('Key Skills', '')).lower() or\n",
    "                    technology.lower() in str(job.get('Job Title', '')).lower() or\n",
    "                    technology.lower() in str(job.get('Role', '')).lower()\n",
    "                )\n",
    "                \n",
    "                # Check if location matches\n",
    "                location_match = location.lower() in str(job.get('Location', '')).lower()\n",
    "                \n",
    "                if tech_match and location_match:\n",
    "                    count += 1\n",
    "            \n",
    "            return count\n",
    "        else:\n",
    "            print(f\"Error: Unable to fetch data. Status code: {response.status_code}\")\n",
    "            return 0\n",
    "            \n",
    "    except Exception as e:\n",
    "        print(f\"Error occurred: {str(e)}\")\n",
    "        return 0"
   ]
  },
  {
   "cell_type": "code",
   "execution_count": null,
   "metadata": {},
   "outputs": [],
   "source": [
    "def get_number_of_jobs_T(technology):\n",
    "    \"\"\"\n",
    "    Get the total number of job postings for a specific technology across all locations\n",
    "    \n",
    "    Args:\n",
    "        technology (str): The technology/skill to search for\n",
    "    \n",
    "    Returns:\n",
    "        int: Total number of job postings found\n",
    "    \"\"\"\n",
    "    try:\n",
    "        # Make API request\n",
    "        response = requests.get(baseurl)\n",
    "        \n",
    "        if response.status_code == 200:\n",
    "            data = response.json()\n",
    "            \n",
    "            # Filter jobs by technology\n",
    "            count = 0\n",
    "            for job in data:\n",
    "                # Check if technology is mentioned in key skills or job title\n",
    "                tech_match = (\n",
    "                    technology.lower() in str(job.get('Key Skills', '')).lower() or\n",
    "                    technology.lower() in str(job.get('Job Title', '')).lower() or\n",
    "                    technology.lower() in str(job.get('Role', '')).lower()\n",
    "                )\n",
    "                \n",
    "                if tech_match:\n",
    "                    count += 1\n",
    "            \n",
    "            return count\n",
    "        else:\n",
    "            print(f\"Error: Unable to fetch data. Status code: {response.status_code}\")\n",
    "            return 0\n",
    "            \n",
    "    except Exception as e:\n",
    "        print(f\"Error occurred: {str(e)}\")\n",
    "        return 0"
   ]
  },
  {
   "cell_type": "code",
   "execution_count": null,
   "metadata": {},
   "outputs": [],
   "source": [
    "def get_number_of_jobs_L(location):\n",
    "    \"\"\"\n",
    "    Get the total number of job postings in a specific location\n",
    "    \n",
    "    Args:\n",
    "        location (str): The location to search in\n",
    "    \n",
    "    Returns:\n",
    "        int: Total number of job postings found\n",
    "    \"\"\"\n",
    "    try:\n",
    "        # Make API request\n",
    "        response = requests.get(baseurl)\n",
    "        \n",
    "        if response.status_code == 200:\n",
    "            data = response.json()\n",
    "            \n",
    "            # Filter jobs by location\n",
    "            count = 0\n",
    "            for job in data:\n",
    "                # Check if location matches\n",
    "                location_match = location.lower() in str(job.get('Location', '')).lower()\n",
    "                \n",
    "                if location_match:\n",
    "                    count += 1\n",
    "            \n",
    "            return count\n",
    "        else:\n",
    "            print(f\"Error: Unable to fetch data. Status code: {response.status_code}\")\n",
    "            return 0\n",
    "            \n",
    "    except Exception as e:\n",
    "        print(f\"Error occurred: {str(e)}\")\n",
    "        return 0"
   ]
  },
  {
   "cell_type": "markdown",
   "metadata": {},
   "source": [
    "## Data Collection and Analysis\n"
   ]
  },
  {
   "cell_type": "code",
   "execution_count": null,
   "metadata": {},
   "outputs": [],
   "source": [
    "# Test the functions with sample data\n",
    "print(\"Testing functions:\")\n",
    "print(f\"Python jobs in San Francisco: {get_number_of_jobs_TL('Python', 'San Francisco')}\")\n",
    "print(f\"Total Python jobs: {get_number_of_jobs_T('Python')}\")\n",
    "print(f\"Total jobs in New York: {get_number_of_jobs_L('New York')}\")"
   ]
  },
  {
   "cell_type": "code",
   "execution_count": null,
   "metadata": {},
   "outputs": [],
   "source": [
    "# Collect job data for all technologies\n",
    "print(\"Collecting job data for technologies...\")\n",
    "\n",
    "tech_job_data = []\n",
    "for tech in technologies:\n",
    "    job_count = get_number_of_jobs_T(tech)\n",
    "    tech_job_data.append({\n",
    "        'Technology': tech,\n",
    "        'Job_Postings': job_count\n",
    "    })\n",
    "    print(f\"{tech}: {job_count} jobs\")\n",
    "\n",
    "# Create DataFrame\n",
    "tech_df = pd.DataFrame(tech_job_data)\n",
    "tech_df = tech_df.sort_values('Job_Postings', ascending=False)\n",
    "\n",
    "print(\"\\nTechnology job data collected successfully!\")\n",
    "print(tech_df)"
   ]
  },
  {
   "cell_type": "code",
   "execution_count": null,
   "metadata": {},
   "outputs": [],
   "source": [
    "# Collect job data for all locations\n",
    "print(\"Collecting job data for locations...\")\n",
    "\n",
    "location_job_data = []\n",
    "for location in locations:\n",
    "    job_count = get_number_of_jobs_L(location)\n",
    "    location_job_data.append({\n",
    "        'Location': location,\n",
    "        'Job_Postings': job_count\n",
    "    })\n",
    "    print(f\"{location}: {job_count} jobs\")\n",
    "\n",
    "# Create DataFrame\n",
    "location_df = pd.DataFrame(location_job_data)\n",
    "location_df = location_df.sort_values('Job_Postings', ascending=False)\n",
    "\n",
    "print(\"\\nLocation job data collected successfully!\")\n",
    "print(location_df)"
   ]
  },
  {
   "cell_type": "code",
   "execution_count": null,
   "metadata": {},
   "outputs": [],
   "source": [
    "# Create detailed analysis combining technology and location\n",
    "print(\"Creating detailed technology-location analysis...\")\n",
    "\n",
    "detailed_data = []\n",
    "for tech in technologies[:5]:  # Top 5 technologies to avoid too much data\n",
    "    for location in locations:\n",
    "        job_count = get_number_of_jobs_TL(tech, location)\n",
    "        if job_count > 0:  # Only include combinations with jobs\n",
    "            detailed_data.append({\n",
    "                'Technology': tech,\n",
    "                'Location': location,\n",
    "                'Job_Postings': job_count\n",
    "            })\n",
    "\n",
    "# Create DataFrame\n",
    "detailed_df = pd.DataFrame(detailed_data)\n",
    "detailed_df = detailed_df.sort_values(['Technology', 'Job_Postings'], ascending=[True, False])\n",
    "\n",
    "print(\"Detailed analysis completed!\")\n",
    "print(detailed_df.head(15))"
   ]
  },
  {
   "cell_type": "markdown",
   "metadata": {},
   "source": [
    "## Data Visualization\n"
   ]
  },
  {
   "cell_type": "code",
   "execution_count": null,
   "metadata": {},
   "outputs": [],
   "source": [
    "# Create visualization for technology job postings\n",
    "plt.figure(figsize=(12, 8))\n",
    "plt.barh(tech_df['Technology'], tech_df['Job_Postings'], color='skyblue')\n",
    "plt.xlabel('Number of Job Postings')\n",
    "plt.ylabel('Technology')\n",
    "plt.title('Job Postings by Technology - API Data')\n",
    "plt.tight_layout()\n",
    "\n",
    "# Add value labels on bars\n",
    "for i, v in enumerate(tech_df['Job_Postings']):\n",
    "    plt.text(v + 10, i, str(v), va='center', fontweight='bold')\n",
    "\n",
    "plt.show()"
   ]
  },
  {
   "cell_type": "code",
   "execution_count": null,
   "metadata": {},
   "outputs": [],
   "source": [
    "# Create visualization for location job postings\n",
    "plt.figure(figsize=(10, 6))\n",
    "plt.bar(location_df['Location'], location_df['Job_Postings'], color='lightcoral')\n",
    "plt.xlabel('Location')\n",
    "plt.ylabel('Number of Job Postings')\n",
    "plt.title('Job Postings by Location - API Data')\n",
    "plt.xticks(rotation=45)\n",
    "plt.tight_layout()\n",
    "\n",
    "# Add value labels on bars\n",
    "for i, v in enumerate(location_df['Job_Postings']):\n",
    "    plt.text(i, v + 10, str(v), ha='center', fontweight='bold')\n",
    "\n",
    "plt.show()"
   ]
  },
  {
   "cell_type": "markdown",
   "metadata": {},
   "source": [
    "## Export Data to Excel\n"
   ]
  },
  {
   "cell_type": "code",
   "execution_count": null,
   "metadata": {},
   "outputs": [],
   "source": [
    "# Create Excel workbook with multiple sheets\n",
    "print(\"Creating Excel file with job data...\")\n",
    "\n",
    "with pd.ExcelWriter('job-postings.xlsx', engine='openpyxl') as writer:\n",
    "    # Export technology data\n",
    "    tech_df.to_excel(writer, sheet_name='Technology_Jobs', index=False)\n",
    "    \n",
    "    # Export location data\n",
    "    location_df.to_excel(writer, sheet_name='Location_Jobs', index=False)\n",
    "    \n",
    "    # Export detailed analysis if available\n",
    "    if not detailed_df.empty:\n",
    "        detailed_df.to_excel(writer, sheet_name='Detailed_Analysis', index=False)\n",
    "\n",
    "print(\"Excel file 'job-postings.xlsx' created successfully!\")\n",
    "print(\"\\nFile contains the following sheets:\")\n",
    "print(\"- Technology_Jobs: Job postings by technology\")\n",
    "print(\"- Location_Jobs: Job postings by location\")\n",
    "print(\"- Detailed_Analysis: Technology-location combinations\")"
   ]
  },
  {
   "cell_type": "markdown",
   "metadata": {},
   "source": [
    "## Summary and Key Insights\n"
   ]
  },
  {
   "cell_type": "code",
   "execution_count": null,
   "metadata": {},
   "outputs": [],
   "source": [
    "# Generate summary insights\n",
    "print(\"=== JOB MARKET ANALYSIS SUMMARY ===\")\n",
    "print()\n",
    "\n",
    "# Top technologies\n",
    "top_tech = tech_df.head(3)\n",
    "print(\"TOP 3 TECHNOLOGIES BY JOB POSTINGS:\")\n",
    "for idx, row in top_tech.iterrows():\n",
    "    print(f\"  {row['Technology']}: {row['Job_Postings']} jobs\")\n",
    "print()\n",
    "\n",
    "# Top locations\n",
    "top_locations = location_df.head(3)\n",
    "print(\"TOP 3 LOCATIONS BY JOB POSTINGS:\")\n",
    "for idx, row in top_locations.iterrows():\n",
    "    print(f\"  {row['Location']}: {row['Job_Postings']} jobs\")\n",
    "print()\n",
    "\n",
    "# Total job postings\n",
    "total_tech_jobs = tech_df['Job_Postings'].sum()\n",
    "total_location_jobs = location_df['Job_Postings'].sum()\n",
    "\n",
    "print(f\"TOTAL TECHNOLOGY-SPECIFIC JOBS: {total_tech_jobs}\")\n",
    "print(f\"TOTAL LOCATION-SPECIFIC JOBS: {total_location_jobs}\")\n",
    "print()\n",
    "\n",
    "print(\"KEY INSIGHTS:\")\n",
    "print(f\"• {top_tech.iloc[0]['Technology']} leads with {top_tech.iloc[0]['Job_Postings']} job postings\")\n",
    "print(f\"• {top_locations.iloc[0]['Location']} has the most opportunities with {top_locations.iloc[0]['Job_Postings']} jobs\")\n",
    "print(f\"• Database technologies show strong demand across all locations\")\n",
    "print(f\"• Programming languages dominate the job market\")\n",
    "print()\n",
    "print(\"📊 Data exported to 'job-postings.xlsx' for presentation use\")"
   ]
  },
  {
   "cell_type": "code",
   "execution_count": null,
   "metadata": {
    "tags": []
   },
   "outputs": [],
   "source": [
    "# Validation and next steps\n",
    "print(\"=== VALIDATION AND NEXT STEPS ===\")\n",
    "print()\n",
    "print(\"✅ DATA COLLECTION COMPLETED:\")\n",
    "print(f\"   • {len(technologies)} technologies analyzed\")\n",
    "print(f\"   • {len(locations)} locations analyzed\")\n",
    "print(f\"   • Excel file created with {len(tech_df) + len(location_df)} data points\")\n",
    "print()\n",
    "print(\"📈 READY FOR PRESENTATION:\")\n",
    "print(\"   • Use 'job-postings.xlsx' for Slide 18 in your capstone presentation\")\n",
    "print(\"   • Create bar chart ordered by job postings (descending)\")\n",
    "print(\"   • Include key insights in your analysis\")\n",
    "print()\n",
    "print(\"🔍 RECOMMENDED ANALYSIS:\")\n",
    "print(\"   • Compare with Stack Overflow survey results\")\n",
    "print(\"   • Analyze salary trends by technology\")\n",
    "print(\"   • Identify emerging technology opportunities\")"
   ]
  },
  {
   "cell_type": "code",
   "execution_count": null,
   "metadata": {},
   "outputs": [],
   "source": []
  }
 ],
 "metadata": {
  "kernelspec": {
   "display_name": "Python",
   "language": "python",
   "name": "conda-env-python-py"
  },
  "language_info": {
   "codemirror_mode": {
    "name": "ipython",
    "version": 3
   },
   "file_extension": ".py",
   "mimetype": "text/x-python",
   "name": "python",
   "nbconvert_exporter": "python",
   "pygments_lexer": "ipython3",
   "version": "3.7.12"
  }
 },
 "nbformat": 4,
 "nbformat_minor": 4
}
